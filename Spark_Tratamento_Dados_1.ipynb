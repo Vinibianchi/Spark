{
  "nbformat": 4,
  "nbformat_minor": 0,
  "metadata": {
    "colab": {
      "name": "Spark_Tratamento_Dados_1.ipynb",
      "provenance": [],
      "collapsed_sections": [],
      "authorship_tag": "ABX9TyM9AK16NQAmhF+nKRt8CTF5",
      "include_colab_link": true
    },
    "kernelspec": {
      "name": "python3",
      "display_name": "Python 3"
    },
    "language_info": {
      "name": "python"
    }
  },
  "cells": [
    {
      "cell_type": "markdown",
      "metadata": {
        "id": "view-in-github",
        "colab_type": "text"
      },
      "source": [
        "<a href=\"https://colab.research.google.com/github/Vinibianchi/Spark/blob/main/Spark_Tratamento_Dados_1.ipynb\" target=\"_parent\"><img src=\"https://colab.research.google.com/assets/colab-badge.svg\" alt=\"Open In Colab\"/></a>"
      ]
    },
    {
      "cell_type": "code",
      "execution_count": null,
      "metadata": {
        "colab": {
          "base_uri": "https://localhost:8080/"
        },
        "id": "XzeqfSgB0SH_",
        "outputId": "f5bd77b3-251b-4a7d-a606-02da04f3e04c"
      },
      "outputs": [
        {
          "output_type": "stream",
          "name": "stdout",
          "text": [
            "Collecting pyspark\n",
            "  Downloading pyspark-3.2.1.tar.gz (281.4 MB)\n",
            "\u001b[K     |████████████████████████████████| 281.4 MB 36 kB/s \n",
            "\u001b[?25hCollecting py4j==0.10.9.3\n",
            "  Downloading py4j-0.10.9.3-py2.py3-none-any.whl (198 kB)\n",
            "\u001b[K     |████████████████████████████████| 198 kB 50.2 MB/s \n",
            "\u001b[?25hBuilding wheels for collected packages: pyspark\n",
            "  Building wheel for pyspark (setup.py) ... \u001b[?25l\u001b[?25hdone\n",
            "  Created wheel for pyspark: filename=pyspark-3.2.1-py2.py3-none-any.whl size=281853642 sha256=161bd7f34361edcb48b47911c35bbf0582771ba68b6ce3b085f1128115fe6654\n",
            "  Stored in directory: /root/.cache/pip/wheels/9f/f5/07/7cd8017084dce4e93e84e92efd1e1d5334db05f2e83bcef74f\n",
            "Successfully built pyspark\n",
            "Installing collected packages: py4j, pyspark\n",
            "Successfully installed py4j-0.10.9.3 pyspark-3.2.1\n"
          ]
        }
      ],
      "source": [
        "!pip install pyspark"
      ]
    },
    {
      "cell_type": "markdown",
      "source": [
        "# Importando a biblioteca"
      ],
      "metadata": {
        "id": "lp0lsq502vtj"
      }
    },
    {
      "cell_type": "code",
      "source": [
        "from pyspark import SparkContext, SparkConf\n",
        "from pyspark.sql import SparkSession"
      ],
      "metadata": {
        "id": "9MuiZg-R2u2c"
      },
      "execution_count": null,
      "outputs": []
    },
    {
      "cell_type": "code",
      "source": [
        "# Instanciando Sessao Spark\n",
        "\n",
        "spark = (SparkSession\n",
        "         .builder\n",
        "         .getOrCreate())\n"
      ],
      "metadata": {
        "id": "lBAHwMvy30yg"
      },
      "execution_count": null,
      "outputs": []
    },
    {
      "cell_type": "markdown",
      "source": [
        "## Mudando Tipo de Colunas"
      ],
      "metadata": {
        "id": "0vCR5uzO4Ygo"
      }
    },
    {
      "cell_type": "code",
      "source": [
        "from pyspark.sql.functions import col\n",
        "\n",
        "\n",
        "df = spark.createDataFrame([('Vinicius', '27'), ('Larissa', '24')], schema = ['nome','idade'])\n",
        "df.select('nome', col('idade').cast('int'))\n",
        "\n",
        "# ou (para tipos complexos)\n",
        "\n",
        "from pyspark.sql.types import IntegerType\n",
        "\n",
        "df.select('nome', col('idade').cast(IntegerType()))"
      ],
      "metadata": {
        "colab": {
          "base_uri": "https://localhost:8080/"
        },
        "id": "J8hBkNlU4X6-",
        "outputId": "cafc24db-cc2f-48e1-ab56-26dce9212973"
      },
      "execution_count": null,
      "outputs": [
        {
          "output_type": "execute_result",
          "data": {
            "text/plain": [
              "DataFrame[nome: string, idade: int]"
            ]
          },
          "metadata": {},
          "execution_count": 4
        }
      ]
    },
    {
      "cell_type": "code",
      "source": [
        "df.show()"
      ],
      "metadata": {
        "colab": {
          "base_uri": "https://localhost:8080/"
        },
        "id": "0inFFLYk4UPr",
        "outputId": "4c3f68b7-a336-475d-9211-3cbf8bec19bc"
      },
      "execution_count": null,
      "outputs": [
        {
          "output_type": "stream",
          "name": "stdout",
          "text": [
            "+--------+-----+\n",
            "|    nome|idade|\n",
            "+--------+-----+\n",
            "|Vinicius|   27|\n",
            "| Larissa|   24|\n",
            "+--------+-----+\n",
            "\n"
          ]
        }
      ]
    },
    {
      "cell_type": "markdown",
      "source": [
        "# Definição de schema"
      ],
      "metadata": {
        "id": "4Yaqcg2Z6648"
      }
    },
    {
      "cell_type": "code",
      "source": [
        "from pyspark.sql.types import *\n",
        "\n",
        "# Cria Schema\n",
        "schema = StructType([\n",
        "                     StructField('nome',StringType()),\n",
        "                     StructField('idade', IntegerType())])"
      ],
      "metadata": {
        "id": "idauZZbU4XRN"
      },
      "execution_count": null,
      "outputs": []
    },
    {
      "cell_type": "code",
      "source": [
        "# Segunda forma\n",
        "\n",
        "schema = 'nome STRING, idade INT'"
      ],
      "metadata": {
        "id": "1nYnmEZ_8She"
      },
      "execution_count": null,
      "outputs": []
    },
    {
      "cell_type": "markdown",
      "source": [
        "# Criando DataFrame Spark"
      ],
      "metadata": {
        "id": "KxQ_Hs2S8k_9"
      }
    },
    {
      "cell_type": "code",
      "source": [
        "import numpy as np\n",
        "\n",
        "nomes = ['Vinicius','Valéria','Larissa','Lucas']\n",
        "notas = [int(v) for v in np.random.randint(1,11,4)]"
      ],
      "metadata": {
        "id": "v6h2pESh8Skq"
      },
      "execution_count": null,
      "outputs": []
    },
    {
      "cell_type": "code",
      "source": [
        "# Criamos originalmente por uma lista de tuplas\n",
        "\n",
        "data = [(nome,nota) for nome,nota in zip(nomes,notas)]\n",
        "schema = 'nome STRING, nota INT'\n",
        "df_custom = spark.createDataFrame(data=data,\n",
        "                                  schema = schema)\n",
        "df_custom.show()"
      ],
      "metadata": {
        "colab": {
          "base_uri": "https://localhost:8080/"
        },
        "id": "mZZlXUlJ9ljx",
        "outputId": "658c073c-5884-4f2c-8b13-6105339686a6"
      },
      "execution_count": null,
      "outputs": [
        {
          "output_type": "stream",
          "name": "stdout",
          "text": [
            "+--------+----+\n",
            "|    nome|nota|\n",
            "+--------+----+\n",
            "|Vinicius|   1|\n",
            "| Valéria|   8|\n",
            "| Larissa|   3|\n",
            "|   Lucas|  10|\n",
            "+--------+----+\n",
            "\n"
          ]
        }
      ]
    },
    {
      "cell_type": "code",
      "source": [
        "spark.range(10).show()"
      ],
      "metadata": {
        "colab": {
          "base_uri": "https://localhost:8080/"
        },
        "id": "S4SE_ZES9VdM",
        "outputId": "34564da0-2625-46ef-8668-e9f03780aebb"
      },
      "execution_count": null,
      "outputs": [
        {
          "output_type": "stream",
          "name": "stdout",
          "text": [
            "+---+\n",
            "| id|\n",
            "+---+\n",
            "|  0|\n",
            "|  1|\n",
            "|  2|\n",
            "|  3|\n",
            "|  4|\n",
            "|  5|\n",
            "|  6|\n",
            "|  7|\n",
            "|  8|\n",
            "|  9|\n",
            "+---+\n",
            "\n"
          ]
        }
      ]
    },
    {
      "cell_type": "markdown",
      "source": [
        "# Leitura de Arquivos  \n",
        "__Há duas formas de leitura de arquivos de dados.\n",
        "A Primeira é lendo direto do tipo de arquivo e a segunda permite parametrizar a leitura em termos da fonte de dados utilizada__"
      ],
      "metadata": {
        "id": "a3inX-aEA5tN"
      }
    },
    {
      "cell_type": "code",
      "source": [
        "# Primeira\n",
        "## Lendo \n",
        "\n",
        "df = spark.read.csv('/content/ratings.tsv', sep = '\\t', header =True)\n",
        "\n",
        "df.show()"
      ],
      "metadata": {
        "colab": {
          "base_uri": "https://localhost:8080/"
        },
        "id": "5zVwadP_A3Ao",
        "outputId": "60bebe54-31ee-496d-cfb5-04e8529f19f8"
      },
      "execution_count": null,
      "outputs": [
        {
          "output_type": "stream",
          "name": "stdout",
          "text": [
            "+---------+-------------+--------+\n",
            "|   tconst|averageRating|numVotes|\n",
            "+---------+-------------+--------+\n",
            "|tt0000001|          5.7|    1858|\n",
            "|tt0000002|          6.0|     243|\n",
            "|tt0000003|          6.5|    1630|\n",
            "|tt0000004|          6.0|     158|\n",
            "|tt0000005|          6.2|    2455|\n",
            "|tt0000006|          5.2|     163|\n",
            "|tt0000007|          5.4|     764|\n",
            "|tt0000008|          5.5|    2003|\n",
            "|tt0000009|          5.9|     193|\n",
            "|tt0000010|          6.9|    6712|\n",
            "|tt0000011|          5.2|     341|\n",
            "|tt0000012|          7.5|   11521|\n",
            "|tt0000013|          5.8|    1779|\n",
            "|tt0000014|          7.1|    5174|\n",
            "|tt0000015|          6.2|     982|\n",
            "|tt0000016|          5.9|    1382|\n",
            "|tt0000017|          4.6|     303|\n",
            "|tt0000018|          5.3|     556|\n",
            "|tt0000019|          5.2|      30|\n",
            "|tt0000020|          4.9|     328|\n",
            "+---------+-------------+--------+\n",
            "only showing top 20 rows\n",
            "\n"
          ]
        }
      ]
    },
    {
      "cell_type": "code",
      "source": [
        "# Python\n",
        "## Usando option \n",
        "df1 = (spark.read.format('csv')\n",
        ".option('header','True')\n",
        ".option('infraSchema','True')\n",
        ".option('sep','\\t')\n",
        ".load('/content/ratings.tsv')\n",
        ")\n",
        "\n",
        "## Forma 2 com .options\n",
        "df2 = (\n",
        "    spark.read.format('csv')\n",
        "    .options(header=True,\n",
        "             inferSchema=True,\n",
        "             sep = '\\t')\n",
        "    .load('/content/ratings.tsv')\n",
        ")\n",
        "\n",
        "## Forma 3\n",
        "options_dict = {'header':True,\n",
        "    'inferSchema':True,\n",
        "    'sep':'\\t'}\n",
        "df3 =(\n",
        "    spark.read.format('csv')\n",
        "    .options(**options_dict)\n",
        "    .load('/content/ratings.tsv')\n",
        ")"
      ],
      "metadata": {
        "id": "GSi1MlZ68Ssd"
      },
      "execution_count": null,
      "outputs": []
    },
    {
      "cell_type": "code",
      "source": [
        "df1.show(5)"
      ],
      "metadata": {
        "colab": {
          "base_uri": "https://localhost:8080/"
        },
        "id": "6yT-YuCKLXZN",
        "outputId": "c8f4454f-b546-4ae3-900a-c6a52877f126"
      },
      "execution_count": null,
      "outputs": [
        {
          "output_type": "stream",
          "name": "stdout",
          "text": [
            "+---------+-------------+--------+\n",
            "|   tconst|averageRating|numVotes|\n",
            "+---------+-------------+--------+\n",
            "|tt0000001|          5.7|    1858|\n",
            "|tt0000002|          6.0|     243|\n",
            "|tt0000003|          6.5|    1630|\n",
            "|tt0000004|          6.0|     158|\n",
            "|tt0000005|          6.2|    2455|\n",
            "+---------+-------------+--------+\n",
            "only showing top 5 rows\n",
            "\n"
          ]
        }
      ]
    },
    {
      "cell_type": "code",
      "source": [
        "df2.show(5)"
      ],
      "metadata": {
        "colab": {
          "base_uri": "https://localhost:8080/"
        },
        "id": "oVQvC0xJLXgw",
        "outputId": "46345578-abe8-49de-e81c-a0c2697d5a0d"
      },
      "execution_count": null,
      "outputs": [
        {
          "output_type": "stream",
          "name": "stdout",
          "text": [
            "+---------+-------------+--------+\n",
            "|   tconst|averageRating|numVotes|\n",
            "+---------+-------------+--------+\n",
            "|tt0000001|          5.7|    1858|\n",
            "|tt0000002|          6.0|     243|\n",
            "|tt0000003|          6.5|    1630|\n",
            "|tt0000004|          6.0|     158|\n",
            "|tt0000005|          6.2|    2455|\n",
            "+---------+-------------+--------+\n",
            "only showing top 5 rows\n",
            "\n"
          ]
        }
      ]
    },
    {
      "cell_type": "code",
      "source": [
        "df3.show(5)"
      ],
      "metadata": {
        "colab": {
          "base_uri": "https://localhost:8080/"
        },
        "id": "gxJ9_LJSLXmq",
        "outputId": "18b0bea7-5f0a-4688-feb3-4fdea5a60efc"
      },
      "execution_count": null,
      "outputs": [
        {
          "output_type": "stream",
          "name": "stdout",
          "text": [
            "+---------+-------------+--------+\n",
            "|   tconst|averageRating|numVotes|\n",
            "+---------+-------------+--------+\n",
            "|tt0000001|          5.7|    1858|\n",
            "|tt0000002|          6.0|     243|\n",
            "|tt0000003|          6.5|    1630|\n",
            "|tt0000004|          6.0|     158|\n",
            "|tt0000005|          6.2|    2455|\n",
            "+---------+-------------+--------+\n",
            "only showing top 5 rows\n",
            "\n"
          ]
        }
      ]
    },
    {
      "cell_type": "markdown",
      "source": [
        "# Escrevendo Dados / Save Dataframe"
      ],
      "metadata": {
        "id": "HcZVIq1RT55B"
      }
    },
    {
      "cell_type": "code",
      "source": [
        "path = 'caminho do palvamento'\n",
        "df.write.parquet(path)\n",
        "df.write.format('csv').load(path)\n",
        "df.write.format('ocr').save(path) \n",
        "# ETC .. "
      ],
      "metadata": {
        "id": "XSgYELOeT5Tc"
      },
      "execution_count": null,
      "outputs": []
    },
    {
      "cell_type": "code",
      "source": [
        "# Utilizando o Pandas tbm é possível.\n",
        "\n",
        "path = 'caminho'\n",
        "df.ToPandas().to_csv(path, sep = ';')"
      ],
      "metadata": {
        "id": "LshlgbZ6YFC1"
      },
      "execution_count": null,
      "outputs": []
    },
    {
      "cell_type": "code",
      "source": [
        ""
      ],
      "metadata": {
        "id": "2CWpFTqzfs6R"
      },
      "execution_count": null,
      "outputs": []
    },
    {
      "cell_type": "markdown",
      "source": [
        "# Operações básicas com DataFrames\n",
        "\n",
        "## Colunas e Expressões"
      ],
      "metadata": {
        "id": "j7Xztr1Y2vKQ"
      }
    },
    {
      "cell_type": "code",
      "source": [
        "data = [['Pedro',7],['João', 5],['Barbara', 10]]\n",
        "schema = 'nome STRING, nota INTEGER'\n",
        "df =spark.createDataFrame(data=data, schema=schema)\n",
        "df.show()"
      ],
      "metadata": {
        "colab": {
          "base_uri": "https://localhost:8080/"
        },
        "id": "QDR_hHW-f8LE",
        "outputId": "d52bc108-f9d7-4cc5-b207-0e4618dc8db4"
      },
      "execution_count": null,
      "outputs": [
        {
          "output_type": "stream",
          "name": "stdout",
          "text": [
            "+-------+----+\n",
            "|   nome|nota|\n",
            "+-------+----+\n",
            "|  Pedro|   7|\n",
            "|   João|   5|\n",
            "|Barbara|  10|\n",
            "+-------+----+\n",
            "\n"
          ]
        }
      ]
    },
    {
      "cell_type": "code",
      "source": [
        "# Nomenado / Renomeando com select\n",
        "df.withColumn('nota_plus', col('nota') +6).show()"
      ],
      "metadata": {
        "colab": {
          "base_uri": "https://localhost:8080/"
        },
        "id": "q5LjehEVg1Ye",
        "outputId": "a3ee406c-1e97-4287-ab04-168cf52f69a3"
      },
      "execution_count": null,
      "outputs": [
        {
          "output_type": "stream",
          "name": "stdout",
          "text": [
            "+-------+----+---------+\n",
            "|   nome|nota|nota_plus|\n",
            "+-------+----+---------+\n",
            "|  Pedro|   7|       13|\n",
            "|   João|   5|       11|\n",
            "|Barbara|  10|       16|\n",
            "+-------+----+---------+\n",
            "\n"
          ]
        }
      ]
    },
    {
      "cell_type": "markdown",
      "source": [
        "## Seleção de Colunas SELECT"
      ],
      "metadata": {
        "id": "Hj5DFlrHi8rG"
      }
    },
    {
      "cell_type": "code",
      "source": [
        "from pyspark.sql.functions import expr, col, round"
      ],
      "metadata": {
        "id": "9-QD7VOfg1bV"
      },
      "execution_count": null,
      "outputs": []
    },
    {
      "cell_type": "code",
      "source": [
        "df.select('nota').show()"
      ],
      "metadata": {
        "colab": {
          "base_uri": "https://localhost:8080/"
        },
        "id": "OTqvD3Scg1d7",
        "outputId": "5b61f9e1-e79d-4803-dcfe-0ae2922612a0"
      },
      "execution_count": null,
      "outputs": [
        {
          "output_type": "stream",
          "name": "stdout",
          "text": [
            "+----+\n",
            "|nota|\n",
            "+----+\n",
            "|   7|\n",
            "|   5|\n",
            "|  10|\n",
            "+----+\n",
            "\n"
          ]
        }
      ]
    },
    {
      "cell_type": "code",
      "source": [
        "# Criando Colunas com select\n",
        "\n",
        "data = [['Pedro',7],['João', 5],['Barbara', 10]]\n",
        "schema = 'nome STRING, nota INTEGER'\n",
        "df =spark.createDataFrame(data=data, schema=schema)\n",
        "\n",
        "df.select('nota', col('nota')+10).show()"
      ],
      "metadata": {
        "colab": {
          "base_uri": "https://localhost:8080/"
        },
        "id": "E9gAqXtRjQsG",
        "outputId": "cda94294-07d6-43c7-f215-5311066aff6c"
      },
      "execution_count": null,
      "outputs": [
        {
          "output_type": "stream",
          "name": "stdout",
          "text": [
            "+----+-----------+\n",
            "|nota|(nota + 10)|\n",
            "+----+-----------+\n",
            "|   7|         17|\n",
            "|   5|         15|\n",
            "|  10|         20|\n",
            "+----+-----------+\n",
            "\n"
          ]
        }
      ]
    },
    {
      "cell_type": "code",
      "source": [
        "# Renomeando colunas\n",
        "## Usando a função .alias()\n",
        "\n",
        "df.select('nome','nota',expr('nota +5').alias('nota_plus_five'))\n",
        "# ou\n",
        "df.select('nome', 'nota', (col('nota')+5).alias('nota_plus_five')).show()\n",
        "\n"
      ],
      "metadata": {
        "colab": {
          "base_uri": "https://localhost:8080/"
        },
        "id": "z5ep4Nrhjudk",
        "outputId": "8f220d71-6e1d-4ac4-9304-2c2d4662a10b"
      },
      "execution_count": null,
      "outputs": [
        {
          "output_type": "stream",
          "name": "stdout",
          "text": [
            "+-------+----+--------------+\n",
            "|   nome|nota|nota_plus_five|\n",
            "+-------+----+--------------+\n",
            "|  Pedro|   7|            12|\n",
            "|   João|   5|            10|\n",
            "|Barbara|  10|            15|\n",
            "+-------+----+--------------+\n",
            "\n"
          ]
        }
      ]
    },
    {
      "cell_type": "code",
      "source": [
        "#ou ainda usando sintaxe sql\n",
        "df.select('nome','nota',expr('nota + 5 as nota_plus_five')).show()"
      ],
      "metadata": {
        "colab": {
          "base_uri": "https://localhost:8080/"
        },
        "id": "qa_sRqr3l2tw",
        "outputId": "6e5c06f5-cdcb-4306-da80-6083846af69d"
      },
      "execution_count": null,
      "outputs": [
        {
          "output_type": "stream",
          "name": "stdout",
          "text": [
            "+-------+----+--------------+\n",
            "|   nome|nota|nota_plus_five|\n",
            "+-------+----+--------------+\n",
            "|  Pedro|   7|            12|\n",
            "|   João|   5|            10|\n",
            "|Barbara|  10|            15|\n",
            "+-------+----+--------------+\n",
            "\n"
          ]
        }
      ]
    },
    {
      "cell_type": "markdown",
      "source": [
        "### Distinct e dropDuplicates()"
      ],
      "metadata": {
        "id": "6X1UlmlBtSYd"
      }
    },
    {
      "cell_type": "code",
      "source": [
        "data = [['Pedro',7],['João', 7],['Barbara', 10]]\n",
        "schema = 'nome STRING, nota INTEGER'\n",
        "df =spark.createDataFrame(data=data, schema=schema)\n",
        "df.show()"
      ],
      "metadata": {
        "colab": {
          "base_uri": "https://localhost:8080/"
        },
        "id": "OqfhQTAAmOu5",
        "outputId": "38ee2131-9ab8-41f1-f943-f62b89ebc6ed"
      },
      "execution_count": null,
      "outputs": [
        {
          "output_type": "stream",
          "name": "stdout",
          "text": [
            "+-------+----+\n",
            "|   nome|nota|\n",
            "+-------+----+\n",
            "|  Pedro|   7|\n",
            "|   João|   7|\n",
            "|Barbara|  10|\n",
            "+-------+----+\n",
            "\n"
          ]
        }
      ]
    },
    {
      "cell_type": "code",
      "source": [
        "df.select('nota').distinct().show()"
      ],
      "metadata": {
        "colab": {
          "base_uri": "https://localhost:8080/"
        },
        "id": "BPNTsKt1tZnX",
        "outputId": "7e4825d6-c570-4401-acd6-5d48c9887b77"
      },
      "execution_count": null,
      "outputs": [
        {
          "output_type": "stream",
          "name": "stdout",
          "text": [
            "+----+\n",
            "|nota|\n",
            "+----+\n",
            "|   7|\n",
            "|  10|\n",
            "+----+\n",
            "\n"
          ]
        }
      ]
    },
    {
      "cell_type": "code",
      "source": [
        "# dropDuplicates()\n",
        "df.select('nota').dropDuplicates().show()"
      ],
      "metadata": {
        "colab": {
          "base_uri": "https://localhost:8080/"
        },
        "id": "091ypphktn6k",
        "outputId": "a4c5b48a-bec8-4b03-8dd3-6103f27cba0c"
      },
      "execution_count": null,
      "outputs": [
        {
          "output_type": "stream",
          "name": "stdout",
          "text": [
            "+----+\n",
            "|nota|\n",
            "+----+\n",
            "|   7|\n",
            "|  10|\n",
            "+----+\n",
            "\n"
          ]
        }
      ]
    },
    {
      "cell_type": "code",
      "source": [
        "df.show()"
      ],
      "metadata": {
        "colab": {
          "base_uri": "https://localhost:8080/"
        },
        "id": "eS7legNWt66J",
        "outputId": "c6da245f-f571-4dad-9133-39158fcd3df9"
      },
      "execution_count": null,
      "outputs": [
        {
          "output_type": "stream",
          "name": "stdout",
          "text": [
            "+-------+----+\n",
            "|   nome|nota|\n",
            "+-------+----+\n",
            "|  Pedro|   7|\n",
            "|   João|   7|\n",
            "|Barbara|  10|\n",
            "+-------+----+\n",
            "\n"
          ]
        }
      ]
    },
    {
      "cell_type": "markdown",
      "source": [
        "## Renomeando as Colunas\n",
        "\n",
        "### df.withColumnRenamed('nome antigo', 'nome novo')"
      ],
      "metadata": {
        "id": "g5ibBE7Nvc3i"
      }
    },
    {
      "cell_type": "code",
      "source": [
        "# Gerando dataset\n",
        "df = spark.createDataFrame(data = [['João'],['Lucas'],['Lidiane']],\n",
        "                           schema= 'aluno STRING')\n",
        "\n",
        "df = df.select('*',expr('round(rand()*10) as nota'), expr('round(rand()*10 + 10) as idade'))\n",
        "df.show()"
      ],
      "metadata": {
        "colab": {
          "base_uri": "https://localhost:8080/"
        },
        "id": "jlnbAwbYt9_7",
        "outputId": "204b8c10-de16-4065-9bd4-c125f4ace186"
      },
      "execution_count": null,
      "outputs": [
        {
          "output_type": "stream",
          "name": "stdout",
          "text": [
            "+-------+----+-----+\n",
            "|  aluno|nota|idade|\n",
            "+-------+----+-----+\n",
            "|   João| 3.0| 11.0|\n",
            "|  Lucas| 4.0| 11.0|\n",
            "|Lidiane| 3.0| 18.0|\n",
            "+-------+----+-----+\n",
            "\n"
          ]
        }
      ]
    },
    {
      "cell_type": "code",
      "source": [
        "## O método . columns retorna o nome das colunas do dataframe\n",
        "col_names = df.columns\n",
        "\n",
        "## Itera sobre as colunas acrescentando um sufixo\n",
        "for col in col_names:\n",
        "  if col !='aluno':\n",
        "    df = df.withColumnRenamed(col,col+'2021')\n",
        "    #df.show()\n",
        "\n",
        "df.show()"
      ],
      "metadata": {
        "colab": {
          "base_uri": "https://localhost:8080/"
        },
        "id": "q_Jprd_wxuoK",
        "outputId": "596e1edb-64bf-448a-b4b3-d6e651d05bc0"
      },
      "execution_count": null,
      "outputs": [
        {
          "output_type": "stream",
          "name": "stdout",
          "text": [
            "+-------+--------+---------+\n",
            "|  aluno|nota2021|idade2021|\n",
            "+-------+--------+---------+\n",
            "|   João|     3.0|     11.0|\n",
            "|  Lucas|     4.0|     11.0|\n",
            "|Lidiane|     3.0|     18.0|\n",
            "+-------+--------+---------+\n",
            "\n"
          ]
        }
      ]
    },
    {
      "cell_type": "markdown",
      "source": [
        "# Filtro de Linhas"
      ],
      "metadata": {
        "id": "6CDbhN0pzFb-"
      }
    },
    {
      "cell_type": "code",
      "source": [
        "df = spark.createDataFrame(data = [['João'],['Lucas'],['Lidiane']],\n",
        "                           schema= 'aluno STRING')\n",
        "\n",
        "df = df.select('*',expr('round(rand()*10) as nota'), expr('round(rand()*10 + 10) as idade'))"
      ],
      "metadata": {
        "id": "tvYef_XR1eC4"
      },
      "execution_count": null,
      "outputs": []
    },
    {
      "cell_type": "code",
      "source": [
        "#df.filter('nota2021 >= 4').show()\n",
        "\n",
        "# ou \n",
        "df.filter(df.nota > 2).show()"
      ],
      "metadata": {
        "colab": {
          "base_uri": "https://localhost:8080/"
        },
        "id": "OerdF0vczDeF",
        "outputId": "7484473d-5988-4a88-aa6d-2930a4e14fa2"
      },
      "execution_count": null,
      "outputs": [
        {
          "output_type": "stream",
          "name": "stdout",
          "text": [
            "+-----+----+-----+\n",
            "|aluno|nota|idade|\n",
            "+-----+----+-----+\n",
            "| João| 7.0| 19.0|\n",
            "|Lucas| 5.0| 15.0|\n",
            "+-----+----+-----+\n",
            "\n"
          ]
        }
      ]
    },
    {
      "cell_type": "code",
      "source": [
        "df.show()"
      ],
      "metadata": {
        "colab": {
          "base_uri": "https://localhost:8080/"
        },
        "id": "p0ftX4OL29O2",
        "outputId": "f1c1c643-d476-4cd0-993c-3d50cdd41d7f"
      },
      "execution_count": null,
      "outputs": [
        {
          "output_type": "stream",
          "name": "stdout",
          "text": [
            "+-------+----+-----+\n",
            "|  aluno|nota|idade|\n",
            "+-------+----+-----+\n",
            "|   João| 7.0| 19.0|\n",
            "|  Lucas| 5.0| 15.0|\n",
            "|Lidiane| 2.0| 14.0|\n",
            "+-------+----+-----+\n",
            "\n"
          ]
        }
      ]
    },
    {
      "cell_type": "code",
      "source": [
        "df.filter(df.nota >3 and df.idade <18)"
      ],
      "metadata": {
        "colab": {
          "base_uri": "https://localhost:8080/"
        },
        "id": "4V1xbdnl0AW-",
        "outputId": "c3fe6b44-04d4-448e-9598-71ecb5463699"
      },
      "execution_count": null,
      "outputs": [
        {
          "output_type": "execute_result",
          "data": {
            "text/plain": [
              "['aluno', 'nota', 'idade']"
            ]
          },
          "metadata": {},
          "execution_count": 77
        }
      ]
    },
    {
      "cell_type": "markdown",
      "source": [
        ""
      ],
      "metadata": {
        "id": "l7u93srw8R4m"
      }
    },
    {
      "cell_type": "markdown",
      "source": [
        ""
      ],
      "metadata": {
        "id": "_9v4-cr8vDRm"
      }
    }
  ]
}